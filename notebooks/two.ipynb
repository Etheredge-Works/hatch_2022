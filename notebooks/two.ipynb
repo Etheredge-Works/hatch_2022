{
 "cells": [
  {
   "cell_type": "code",
   "execution_count": null,
   "metadata": {},
   "outputs": [],
   "source": [
    "import pandas as pd\n",
    "# df_m = pd.read_csv(\"../data/multimedia.txt\", delimiter=\"\\t+\")\n",
    "# df_m.to_parquet(\"../fast_data/multimedia.parquet\")\n",
    "df_m = pd.read_parquet(\"../fast_data/multimedia.parquet\")\n",
    "df_m.head()"
   ]
  },
  {
   "cell_type": "code",
   "execution_count": null,
   "metadata": {},
   "outputs": [],
   "source": [
    "df_m.count()"
   ]
  },
  {
   "cell_type": "code",
   "execution_count": null,
   "metadata": {},
   "outputs": [],
   "source": [
    "import pandas as pd\n",
    "# df_o = pd.read_csv(\"../data/occurrence_sub.txt\", delimiter=\"\\t\")\n",
    "# my_cols = [str(i) for i in range(45)] # create some col names\n",
    "df_user_key_word_org = pd.read_csv(\"../data/occurrence.txt\",\n",
    "                                   sep=\"\\t|;\",\n",
    ")\n",
    "df_o.to_parquet(\"../fast_data/occurrence.parquet\")\n",
    "# df_o = pd.read_parquet(\"../fast_data/occurrence.parquet\")\n",
    "df_o.head()"
   ]
  },
  {
   "cell_type": "code",
   "execution_count": null,
   "metadata": {},
   "outputs": [],
   "source": [
    "df_o.count()"
   ]
  },
  {
   "cell_type": "code",
   "execution_count": null,
   "metadata": {},
   "outputs": [],
   "source": [
    "for c in df_o.columns:\n",
    "    print(c) "
   ]
  },
  {
   "cell_type": "code",
   "execution_count": null,
   "metadata": {},
   "outputs": [],
   "source": [
    "import pandas as pd\n",
    "df_v = pd.read_csv(\"../data/verbatim.txt\", sep=\"\\t|;\",)\n",
    "# df_v.to_parquet(\"../fast_data/verbatim.parquet\")\n",
    "# df_v = pd.read_parquet(\"../fast_data/verbatim.parquet\")\n",
    "df_v.head()"
   ]
  },
  {
   "cell_type": "code",
   "execution_count": null,
   "metadata": {},
   "outputs": [],
   "source": [
    "import pandas as pd\n",
    "f = open(\"../data/occurrence.txt\", \"r\")\n",
    "evil = [58, 61, 70, 71, 84, 90, 111, 173, 174, 175, 225, 226]\n",
    "data = {}\n",
    "maping = {}\n",
    "for line_idx, line in enumerate(f):\n",
    "    if line_idx == 0:\n",
    "        cols = line.split(\"\\t\")\n",
    "        for i, col in enumerate(cols):\n",
    "            data[col] = []\n",
    "            maping[i] = col\n",
    "            # print(col)\n",
    "        print(i)\n",
    "    else:\n",
    "        cols = line.split(\"\\t\", maxsplit=256)\n",
    "        jdx = 0\n",
    "        # print(\"len cols\", len(cols))\n",
    "        if line_idx % 10000000 == 0:\n",
    "            print(line_idx)\n",
    "        for col in cols:\n",
    "            if jdx > 256:\n",
    "                print(\"fail\")\n",
    "                print(col, jdx)\n",
    "                next\n",
    "            if jdx in evil:\n",
    "                # print(col)\n",
    "                nc = col.split(\";\")\n",
    "                # print(\"nc: \", nc)\n",
    "                data[maping[jdx]].append(nc[0])\n",
    "                # print(map[jdx], \"nc : \", nc)\n",
    "                try:\n",
    "                    data[maping[jdx]].append(nc[1])\n",
    "                except:\n",
    "                    data[maping[jdx]].append(\"\")\n",
    "                    pass\n",
    "                jdx += 1\n",
    "            else:\n",
    "                data[maping[jdx]].append(col)\n",
    "                jdx+=1\n",
    "\n",
    "f.close()\n",
    "for k, v in data.items():\n",
    "    print(k, len(v))\n",
    "df = pd.DataFrame(data)\n",
    "\n",
    "\n"
   ]
  },
  {
   "cell_type": "code",
   "execution_count": null,
   "metadata": {},
   "outputs": [],
   "source": [
    "data['decimalLatitude']"
   ]
  },
  {
   "cell_type": "code",
   "execution_count": null,
   "metadata": {},
   "outputs": [],
   "source": [
    "for num in evil:\n",
    "    del data[maping[num]]"
   ]
  },
  {
   "cell_type": "code",
   "execution_count": null,
   "metadata": {},
   "outputs": [],
   "source": [
    "df = pd.DataFrame(data)\n",
    "df.to_parquet(\"../fast_data/custom.parquet\")"
   ]
  },
  {
   "cell_type": "code",
   "execution_count": null,
   "metadata": {},
   "outputs": [],
   "source": [
    "df.head()\n",
    "len(df['decimalLatitude'].unique())\n",
    "len(df['decimalLongitude'].unique())"
   ]
  },
  {
   "cell_type": "code",
   "execution_count": null,
   "metadata": {},
   "outputs": [],
   "source": [
    "r = df_v.count()"
   ]
  },
  {
   "cell_type": "code",
   "execution_count": null,
   "metadata": {},
   "outputs": [],
   "source": [
    "for i in r:\n",
    "    print(i)"
   ]
  },
  {
   "cell_type": "code",
   "execution_count": null,
   "metadata": {},
   "outputs": [],
   "source": [
    "for c in df_o.columns:\n",
    "    print(c) "
   ]
  },
  {
   "cell_type": "code",
   "execution_count": null,
   "metadata": {},
   "outputs": [],
   "source": [
    "# from multiprocessing import Pool\n",
    "# import requests\n",
    "# def get_data(x): \n",
    "#     return x, requests.get(f'https://api.gbif.org/v1/occurrence/{x}').json()\n",
    "# def get_ny_species(ids):\n",
    "#     a_d = []\n",
    "#     pool = Pool(processes=192)\n",
    "#     a = pool.map(get_data, ids)\n",
    "#     # for id in ids:\n",
    "#         # r = requests.get(f'https://api.gbif.org/v1/occurrence/{id}')\n",
    "#         # data = r.json()\n",
    "#         # a_d.append(data)\n",
    "#     return a\n",
    "# datas = get_ny_species(df['gbifID'].to_list())"
   ]
  },
  {
   "cell_type": "code",
   "execution_count": null,
   "metadata": {},
   "outputs": [],
   "source": []
  },
  {
   "cell_type": "code",
   "execution_count": null,
   "metadata": {},
   "outputs": [],
   "source": [
    "# super_df = df_o.merge(df_v, on='gbifID').merge(df_m, on='gbifID')\n",
    "super_df = pd.DataFrame()\n",
    "super_df['gbifID'] = df_m['gbifID']\n",
    "super_df['identifier'] = df_m['identifier']\n",
    "super_df['decimalLatitude'] = df_o['decimalLatitude']\n",
    "super_df['decimalLongitude'] = df_o['decimalLongitude']\n",
    "super_df['organismName'] = df_o['organismName']\n",
    "super_df['scientificNameID'] = df_o['scientificNameID']\n",
    "super_df['taxonID'] = df_o['taxonID']\n",
    "super_df['acceptedNameUsageID'] = df_o['acceptedNameUsageID']\n",
    "super_df['nameAccordingToID'] = df_o['nameAccordingToID']\n",
    "super_df['class'] = df_o['class']\n",
    "super_df['order'] = df_o['order']\n",
    "super_df['family'] = df_o['family']\n",
    "super_df['genus'] = df_o['genus']\n",
    "super_df['subgenus'] = df_o['subgenus']\n",
    "super_df['taxonKey'] = df_o['taxonKey']\n",
    "\n",
    "\n"
   ]
  },
  {
   "cell_type": "code",
   "execution_count": null,
   "metadata": {},
   "outputs": [],
   "source": [
    "super_df.to_parquet(\"../fast_data/super_df.parquet\")"
   ]
  },
  {
   "cell_type": "code",
   "execution_count": null,
   "metadata": {},
   "outputs": [],
   "source": []
  }
 ],
 "metadata": {
  "interpreter": {
   "hash": "56c8c587f631d1b7147bc407be2aa48dcb10aa40609e558c692974316d6bc3b8"
  },
  "kernelspec": {
   "display_name": "Python 3.8.13 ('hatch')",
   "language": "python",
   "name": "python3"
  },
  "language_info": {
   "codemirror_mode": {
    "name": "ipython",
    "version": 3
   },
   "file_extension": ".py",
   "mimetype": "text/x-python",
   "name": "python",
   "nbconvert_exporter": "python",
   "pygments_lexer": "ipython3",
   "version": "3.8.13"
  },
  "orig_nbformat": 4
 },
 "nbformat": 4,
 "nbformat_minor": 2
}
