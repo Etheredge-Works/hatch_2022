{
 "cells": [
  {
   "cell_type": "code",
   "execution_count": null,
   "metadata": {},
   "outputs": [],
   "source": [
    "import pandas as pd\n",
    "# pd.set_option('display.height', 1000)\n",
    "# pd.set_option('display.max_rows', 500)\n",
    "# pd.set_option('display.max_columns', 500)\n",
    "# pd.set_option('display.width', 1000)\n"
   ]
  },
  {
   "cell_type": "code",
   "execution_count": null,
   "metadata": {},
   "outputs": [],
   "source": [
    "df = pd.read_parquet(\"../final_data.parquet\")\n",
    "df.dropna(axis=1, how=\"all\", inplace=True)\n",
    "df.drop(columns=[\n",
    "    \"infraspecificEpithet\", \n",
    "    \"verbatimScientificName\", \n",
    "    \"verbatimScientificNameAuthorship\",\n",
    "    \"occurrenceStatus\",\n",
    "    \"collectionCode\",\n",
    "    \"references\",\n",
    "    \"license_y\",\n",
    "    \"rightsHolder_y\",\n",
    "    \"lastInterpreted\",\n",
    "    \"typeStatus\",\n",
    "    \"catalogNumber\",\n",
    "    \"day\", \"month\", \"year\",\n",
    "    \"basisOfRecord\",\n",
    "    \"institutionCode\",\n",
    "    \"recordNumber\",\n",
    "    \"elevationAccuracy\",\n",
    "    \"elevation\",\n",
    "    \"dateIdentified\",\n",
    "    \"mediaType\",\n",
    "    \"type\",\n",
    "    \"description\",\n",
    "    \"datasetKey\",\n",
    "    \"title\",\n",
    "    \"eventDate\",\n",
    "    \"publishingOrgKey\",\n",
    "    \"coordinateUncertaintyInMeters\",\n",
    "    \"issue\",\n",
    "    \"identifiedBy\",\n",
    "    \"format\",\n",
    "    # \"countryCode\",\n",
    "    # \"locality\",\n",
    "    # \"stateProvince\",\n",
    "    ], inplace=True)"
   ]
  },
  {
   "cell_type": "code",
   "execution_count": null,
   "metadata": {},
   "outputs": [],
   "source": [
    "df['species'] = df['species'].fillna('')\n",
    "df['genus'] = df['genus'].fillna('')\n",
    "df['stateProvince'] = df['stateProvince'].fillna('')\n",
    "df['countryCode'] = df['countryCode'].fillna('')"
   ]
  },
  {
   "cell_type": "code",
   "execution_count": null,
   "metadata": {},
   "outputs": [],
   "source": [
    "df.head()"
   ]
  },
  {
   "cell_type": "markdown",
   "metadata": {},
   "source": [
    "docker network create proxynetdf['species'] = df['species'].fillna('')\n",
    "    df['genus'] = df['genus'].fillna('')\n",
    "    df['stateProvince'] = df['stateProvince'].fillna('')\n",
    "    df['countryCode'] = df['countryCode'].fillna('')"
   ]
  },
  {
   "cell_type": "code",
   "execution_count": null,
   "metadata": {},
   "outputs": [],
   "source": [
    "df.isna().sum()"
   ]
  },
  {
   "cell_type": "code",
   "execution_count": null,
   "metadata": {},
   "outputs": [],
   "source": [
    "df.info()"
   ]
  },
  {
   "cell_type": "code",
   "execution_count": null,
   "metadata": {},
   "outputs": [],
   "source": []
  },
  {
   "cell_type": "code",
   "execution_count": null,
   "metadata": {},
   "outputs": [],
   "source": [
    "df.to_parquet(\"../final_data_clean.parquet\")"
   ]
  },
  {
   "cell_type": "code",
   "execution_count": null,
   "metadata": {},
   "outputs": [],
   "source": [
    "import boto3\n",
    "s3 = boto3.client('s3', endpoint_url='https://minio.etheredge.co')\n",
    "s3.upload_file('../final_data_clean.parquet', 'hatch-2022', 'final_data_clean.parquet')\n",
    "print(\"uploaded file\")"
   ]
  },
  {
   "cell_type": "code",
   "execution_count": null,
   "metadata": {},
   "outputs": [],
   "source": []
  }
 ],
 "metadata": {
  "interpreter": {
   "hash": "56c8c587f631d1b7147bc407be2aa48dcb10aa40609e558c692974316d6bc3b8"
  },
  "kernelspec": {
   "display_name": "Python 3.8.13 ('hatch')",
   "language": "python",
   "name": "python3"
  },
  "language_info": {
   "codemirror_mode": {
    "name": "ipython",
    "version": 3
   },
   "file_extension": ".py",
   "mimetype": "text/x-python",
   "name": "python",
   "nbconvert_exporter": "python",
   "pygments_lexer": "ipython3",
   "version": "3.8.13"
  },
  "orig_nbformat": 4
 },
 "nbformat": 4,
 "nbformat_minor": 2
}
