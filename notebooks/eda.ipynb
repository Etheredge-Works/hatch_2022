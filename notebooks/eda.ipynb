{
 "cells": [
  {
   "cell_type": "code",
   "execution_count": null,
   "metadata": {},
   "outputs": [],
   "source": [
    "import requests\n",
    "# r = requests.get('https://api.gbif.org/v1/species/search?q=*&limit=-1')\n",
    "# r = requests.get('https://api.gbif.org/v1/species/suggest?limit=0')\n",
    "UUID = \"d415c253-4d61-4459-9d25-4015b9084fb0\"\n",
    "# r = requests.get(f\"https://api.gbif.org/v1//dataset/{UUID}/endpoint\")\n",
    "# r = requests.get(f\"http://sweetgum.nybg.org:8080/ipt/archive.do?r=occurrences\")\n",
    "# r = requests.get('https://api.gbif.org/v1/species/search?q=1927768095&limit=0')\n",
    "r = requests.get('https://api.gbif.org/v1/occurrence/1927768095')\n",
    "# r = requests.get('https://api.gbif.org/v1/species/search?rank=SPECIES&q=*&limit=0')\n",
    "r.status_code"
   ]
  },
  {
   "cell_type": "code",
   "execution_count": null,
   "metadata": {},
   "outputs": [],
   "source": [
    "r.json().keys()"
   ]
  },
  {
   "cell_type": "code",
   "execution_count": null,
   "metadata": {},
   "outputs": [],
   "source": [
    "len(r.json())"
   ]
  },
  {
   "cell_type": "code",
   "execution_count": null,
   "metadata": {},
   "outputs": [],
   "source": [
    "r.text"
   ]
  },
  {
   "cell_type": "code",
   "execution_count": null,
   "metadata": {},
   "outputs": [],
   "source": [
    "import pandas as pd"
   ]
  },
  {
   "cell_type": "code",
   "execution_count": null,
   "metadata": {},
   "outputs": [],
   "source": [
    "# pd.read_xml(\"../data/dataset/d415c253-4d61-4459-9d25-4015b9084fb0/endpoint.xml\")\n",
    "pd.read_xml(\"../data/dataset/d415c253-4d61-4459-9d25-4015b9084fb0.xml\")"
   ]
  },
  {
   "cell_type": "code",
   "execution_count": null,
   "metadata": {},
   "outputs": [],
   "source": [
    "!pip install lxml"
   ]
  },
  {
   "cell_type": "code",
   "execution_count": null,
   "metadata": {},
   "outputs": [],
   "source": [
    "def get_ny_species(ids):\n",
    "    a_d = []\n",
    "    for id in ids:\n",
    "        r = requests.get(f'https://api.gbif.org/v1/occurrence/{id}')\n",
    "        data = r.json()\n",
    "        a_d.append(data)\n",
    "    return a_d"
   ]
  },
  {
   "cell_type": "code",
   "execution_count": null,
   "metadata": {},
   "outputs": [],
   "source": [
    "import pandas as pd\n",
    "df = pd.read_csv(\"../data/multimedia.txt\", delimiter=\"\\t\")\n",
    "df.head()"
   ]
  },
  {
   "cell_type": "code",
   "execution_count": null,
   "metadata": {},
   "outputs": [],
   "source": [
    "df['data'] = get_ny_species(df['gbifID'])"
   ]
  },
  {
   "cell_type": "code",
   "execution_count": null,
   "metadata": {},
   "outputs": [],
   "source": [
    "df.columns\n",
    "df['identifier'][0]"
   ]
  },
  {
   "cell_type": "code",
   "execution_count": null,
   "metadata": {},
   "outputs": [],
   "source": []
  },
  {
   "cell_type": "code",
   "execution_count": null,
   "metadata": {},
   "outputs": [],
   "source": []
  }
 ],
 "metadata": {
  "interpreter": {
   "hash": "d4d1e4263499bec80672ea0156c357c1ee493ec2b1c70f0acce89fc37c4a6abe"
  },
  "kernelspec": {
   "display_name": "Python 3.9.5 ('base')",
   "language": "python",
   "name": "python3"
  },
  "language_info": {
   "codemirror_mode": {
    "name": "ipython",
    "version": 3
   },
   "file_extension": ".py",
   "mimetype": "text/x-python",
   "name": "python",
   "nbconvert_exporter": "python",
   "pygments_lexer": "ipython3",
   "version": "3.9.5"
  },
  "orig_nbformat": 4
 },
 "nbformat": 4,
 "nbformat_minor": 2
}
